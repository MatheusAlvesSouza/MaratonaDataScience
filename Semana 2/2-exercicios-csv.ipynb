{
 "cells": [
  {
   "cell_type": "markdown",
   "metadata": {},
   "source": [
    "Before we get started, a couple of reminders to keep in mind when using iPython notebooks:\n",
    "\n",
    "- Remember that you can see from the left side of a code cell when it was last run if there is a number within the brackets.\n",
    "- When you start a new notebook session, make sure you run all of the cells up to the point where you last left off. Even if the output is still visible from when you ran the cells in your previous session, the kernel starts in a fresh state so you'll need to reload the data, etc. on a new session.\n",
    "- The previous point is useful to keep in mind if your answers do not match what is expected in the lesson's quizzes. Try reloading the data and run all of the processing steps one by one in order to make sure that you are working with the same variables and data that are at each quiz stage.\n",
    "\n",
    "\n",
    "## Load Data from CSVs"
   ]
  },
  {
   "cell_type": "code",
   "execution_count": 1,
   "metadata": {},
   "outputs": [],
   "source": [
    "import unicodecsv\n",
    "\n",
    "## Longer version of code (replaced with shorter, equivalent version below)\n",
    "\n",
    "# enrollments = []\n",
    "# f = open('enrollments.csv', 'rb')\n",
    "# reader = unicodecsv.DictReader(f)\n",
    "# for row in reader:\n",
    "#     enrollments.append(row)\n",
    "# f.close()\n",
    "\n",
    "with open('csv/enrollments.csv', 'rb') as f:\n",
    "    reader = unicodecsv.DictReader(f)\n",
    "    enrollments = list(reader)"
   ]
  },
  {
   "cell_type": "code",
   "execution_count": 2,
   "metadata": {},
   "outputs": [],
   "source": [
    "#####################################\n",
    "#                 1                 #\n",
    "#####################################\n",
    "\n",
    "## Read in the data from daily_engagement.csv and project_submissions.csv \n",
    "## and store the results in the below variables.\n",
    "def read_csv (url):\n",
    "    with open(url, 'rb') as f:\n",
    "        reader = unicodecsv.DictReader(f)\n",
    "        return list(reader)\n",
    "\n",
    "daily_engagement = read_csv('csv/daily_engagement.csv')\n",
    "project_submissions = read_csv('csv/project_submissions.csv')"
   ]
  },
  {
   "cell_type": "markdown",
   "metadata": {},
   "source": [
    "## Fixing Data Types"
   ]
  },
  {
   "cell_type": "code",
   "execution_count": 3,
   "metadata": {},
   "outputs": [
    {
     "name": "stdout",
     "output_type": "stream",
     "text": [
      "{u'status': u'canceled', u'is_udacity': True, u'is_canceled': True, u'join_date': datetime.datetime(2014, 11, 10, 0, 0), u'account_key': u'448', u'cancel_date': datetime.datetime(2015, 1, 14, 0, 0), u'days_to_cancel': 65}\n"
     ]
    }
   ],
   "source": [
    "from datetime import datetime as dt\n",
    "\n",
    "# Takes a date as a string, and returns a Python datetime object. \n",
    "# If there is no date given, returns None\n",
    "def parse_date(date):\n",
    "    if date == '':\n",
    "        return None\n",
    "    else:\n",
    "        return dt.strptime(date, '%Y-%m-%d')\n",
    "    \n",
    "# Takes a string which is either an empty string or represents an integer,\n",
    "# and returns an int or None.\n",
    "def parse_maybe_int(i):\n",
    "    if i == '':\n",
    "        return None\n",
    "    else:\n",
    "        return int(i)\n",
    "\n",
    "# Clean up the data types in the enrollments table\n",
    "for enrollment in enrollments:\n",
    "    enrollment['cancel_date'] = parse_date(enrollment['cancel_date'])\n",
    "    enrollment['days_to_cancel'] = parse_maybe_int(enrollment['days_to_cancel'])\n",
    "    enrollment['is_canceled'] = enrollment['is_canceled'] == 'True'\n",
    "    enrollment['is_udacity'] = enrollment['is_udacity'] == 'True'\n",
    "    enrollment['join_date'] = parse_date(enrollment['join_date'])\n",
    "    \n",
    "print enrollments[0]"
   ]
  },
  {
   "cell_type": "code",
   "execution_count": 4,
   "metadata": {},
   "outputs": [
    {
     "name": "stdout",
     "output_type": "stream",
     "text": [
      "{u'lessons_completed': 0, u'num_courses_visited': 1, u'total_minutes_visited': 11.6793745, u'projects_completed': 0, u'acct': u'0', u'utc_date': datetime.datetime(2015, 1, 9, 0, 0)}\n"
     ]
    }
   ],
   "source": [
    "# Clean up the data types in the engagement table\n",
    "for engagement_record in daily_engagement:\n",
    "    engagement_record['lessons_completed'] = int(float(engagement_record['lessons_completed']))\n",
    "    engagement_record['num_courses_visited'] = int(float(engagement_record['num_courses_visited']))\n",
    "    engagement_record['projects_completed'] = int(float(engagement_record['projects_completed']))\n",
    "    engagement_record['total_minutes_visited'] = float(engagement_record['total_minutes_visited'])\n",
    "    engagement_record['utc_date'] = parse_date(engagement_record['utc_date'])\n",
    "    \n",
    "print daily_engagement[0]"
   ]
  },
  {
   "cell_type": "code",
   "execution_count": 5,
   "metadata": {},
   "outputs": [
    {
     "name": "stdout",
     "output_type": "stream",
     "text": [
      "{u'lesson_key': u'3176718735', u'processing_state': u'EVALUATED', u'account_key': u'256', u'assigned_rating': u'UNGRADED', u'completion_date': datetime.datetime(2015, 1, 16, 0, 0), u'creation_date': datetime.datetime(2015, 1, 14, 0, 0)}\n"
     ]
    }
   ],
   "source": [
    "# Clean up the data types in the submissions table\n",
    "for submission in project_submissions:\n",
    "    submission['completion_date'] = parse_date(submission['completion_date'])\n",
    "    submission['creation_date'] = parse_date(submission['creation_date'])\n",
    "\n",
    "print project_submissions[0]"
   ]
  },
  {
   "cell_type": "markdown",
   "metadata": {},
   "source": [
    "Note when running the above cells that we are actively changing the contents of our data variables. If you try to run these cells multiple times in the same session, an error will occur.\n",
    "\n",
    "## Investigating the Data"
   ]
  },
  {
   "cell_type": "code",
   "execution_count": 6,
   "metadata": {},
   "outputs": [
    {
     "name": "stdout",
     "output_type": "stream",
     "text": [
      "Lines in enrollments: 1640\n",
      "Lines in daily engagement: 136240\n",
      "Lines in project submissions: 3642\n"
     ]
    }
   ],
   "source": [
    "#####################################\n",
    "#                 2                 #\n",
    "#####################################\n",
    "\n",
    "## Find the total number of rows and the number of unique students (account keys)\n",
    "## in each table.\n",
    "\n",
    "print ('Lines in enrollments: {}'.format(len(enrollments)))\n",
    "print ('Lines in daily engagement: {}'.format(len(daily_engagement)))\n",
    "print ('Lines in project submissions: {}'.format(len(project_submissions)))"
   ]
  },
  {
   "cell_type": "markdown",
   "metadata": {},
   "source": [
    "## Problems in the Data"
   ]
  },
  {
   "cell_type": "markdown",
   "metadata": {},
   "source": [
    "## Missing Engagement Records"
   ]
  },
  {
   "cell_type": "code",
   "execution_count": 7,
   "metadata": {},
   "outputs": [
    {
     "name": "stdout",
     "output_type": "stream",
     "text": [
      "Lines in enrollments with unique: 1302\n",
      "Lines in daily engagement with unique: 1237\n",
      "Lines in project submissions with unique: 743\n"
     ]
    }
   ],
   "source": [
    "#####################################\n",
    "#                 3                 #\n",
    "#####################################\n",
    "\n",
    "## Rename the \"acct\" column in the daily_engagement table to \"account_key\".\n",
    "\n",
    "for engagement in daily_engagement:\n",
    "    engagement['account_key'] = engagement['acct']\n",
    "    del engagement['acct']\n",
    "\n",
    "## Function to add unique\n",
    "def set_unique (data):\n",
    "    unique = set()\n",
    "    for record in data:\n",
    "        unique.add(record['account_key'])\n",
    "    return unique\n",
    "    \n",
    "## set() is a collection that must has one unique key / value, all of them must be differentle\n",
    "\n",
    "unique_enrolled_students = set_unique(enrollments)\n",
    "unique_engagement_students = set_unique(daily_engagement)\n",
    "unique_project_submitters = set_unique(project_submissions)\n",
    "\n",
    "print ('Lines in enrollments with unique: {}'.format(len(unique_enrolled_students)))\n",
    "print ('Lines in daily engagement with unique: {}'.format(len(unique_engagement_students)))\n",
    "print ('Lines in project submissions with unique: {}'.format(len(unique_project_submitters)))"
   ]
  },
  {
   "cell_type": "code",
   "execution_count": 8,
   "metadata": {},
   "outputs": [
    {
     "name": "stdout",
     "output_type": "stream",
     "text": [
      "{u'status': u'canceled', u'is_udacity': False, u'is_canceled': True, u'join_date': datetime.datetime(2014, 11, 12, 0, 0), u'account_key': u'1219', u'cancel_date': datetime.datetime(2014, 11, 12, 0, 0), u'days_to_cancel': 0}\n"
     ]
    }
   ],
   "source": [
    "#####################################\n",
    "#                 4                 #\n",
    "#####################################\n",
    "\n",
    "## Find any one student enrollments where the student is missing from the daily engagement table.\n",
    "## Output that enrollment.\n",
    "for enrollment in enrollments:\n",
    "    student = enrollment['account_key']\n",
    "    if student not in unique_engagement_students:\n",
    "        print enrollment\n",
    "        break\n"
   ]
  },
  {
   "cell_type": "markdown",
   "metadata": {},
   "source": [
    "## Checking for More Problem Records"
   ]
  },
  {
   "cell_type": "code",
   "execution_count": 9,
   "metadata": {},
   "outputs": [
    {
     "name": "stdout",
     "output_type": "stream",
     "text": [
      "3\n"
     ]
    }
   ],
   "source": [
    "#####################################\n",
    "#                 5                 #\n",
    "#####################################\n",
    "\n",
    "## Find the number of surprising data points (enrollments missing from\n",
    "## the engagement table) that remain, if any.\n",
    "\n",
    "num_problem_students = 0\n",
    "for enrollment in enrollments:\n",
    "    student = enrollment['account_key']\n",
    "    if (student not in unique_engagement_students and enrollment['join_date'] != enrollment['cancel_date']):\n",
    "        num_problem_students += 1\n",
    "\n",
    "print num_problem_students\n",
    "\n"
   ]
  },
  {
   "cell_type": "markdown",
   "metadata": {},
   "source": [
    "## Tracking Down the Remaining Problems"
   ]
  },
  {
   "cell_type": "code",
   "execution_count": 10,
   "metadata": {},
   "outputs": [
    {
     "data": {
      "text/plain": [
       "6"
      ]
     },
     "execution_count": 10,
     "metadata": {},
     "output_type": "execute_result"
    }
   ],
   "source": [
    "# Create a set of the account keys for all Udacity test accounts\n",
    "udacity_test_accounts = set()\n",
    "for enrollment in enrollments:\n",
    "    if enrollment['is_udacity']:\n",
    "        udacity_test_accounts.add(enrollment['account_key'])\n",
    "len(udacity_test_accounts)"
   ]
  },
  {
   "cell_type": "code",
   "execution_count": 11,
   "metadata": {},
   "outputs": [],
   "source": [
    "# Given some data with an account_key field, removes any records corresponding to Udacity test accounts\n",
    "def remove_udacity_accounts(data):\n",
    "    non_udacity_data = []\n",
    "    for data_point in data:\n",
    "        if data_point['account_key'] not in udacity_test_accounts:\n",
    "            non_udacity_data.append(data_point)\n",
    "    return non_udacity_data"
   ]
  },
  {
   "cell_type": "code",
   "execution_count": 12,
   "metadata": {},
   "outputs": [
    {
     "name": "stdout",
     "output_type": "stream",
     "text": [
      "1622\n",
      "135656\n",
      "3634\n"
     ]
    }
   ],
   "source": [
    "# Remove Udacity test accounts from all three tables\n",
    "non_udacity_enrollments = remove_udacity_accounts(enrollments)\n",
    "non_udacity_engagement = remove_udacity_accounts(daily_engagement)\n",
    "non_udacity_submissions = remove_udacity_accounts(project_submissions)\n",
    "\n",
    "print len(non_udacity_enrollments)\n",
    "print len(non_udacity_engagement)\n",
    "print len(non_udacity_submissions)"
   ]
  },
  {
   "cell_type": "markdown",
   "metadata": {},
   "source": [
    "## Refining the Question"
   ]
  },
  {
   "cell_type": "code",
   "execution_count": 13,
   "metadata": {},
   "outputs": [
    {
     "name": "stdout",
     "output_type": "stream",
     "text": [
      "995\n"
     ]
    }
   ],
   "source": [
    "#####################################\n",
    "#                 6                 #\n",
    "#####################################\n",
    "\n",
    "## Create a dictionary named paid_students containing all students who either\n",
    "## haven't canceled yet or who remained enrolled for more than 7 days. The keys\n",
    "## should be account keys, and the values should be the date the student enrolled.\n",
    "\n",
    "## Creating a new dictionary\n",
    "paid_students = {}\n",
    "\n",
    "for student in non_udacity_enrollments:\n",
    "    if student['days_to_cancel'] == None or student['days_to_cancel'] > 7:\n",
    "        account_key = student['account_key']\n",
    "        enrollment_date = student['join_date']\n",
    "        ## The second if is for change de date if is more recent than the last\n",
    "        if (account_key not in paid_students or enrollment_date > paid_students[account_key]):\n",
    "            paid_students[account_key] = enrollment_date\n",
    "            \n",
    "print len(paid_students)"
   ]
  },
  {
   "cell_type": "markdown",
   "metadata": {},
   "source": [
    "## Getting Data from First Week"
   ]
  },
  {
   "cell_type": "code",
   "execution_count": 14,
   "metadata": {},
   "outputs": [],
   "source": [
    "# Takes a student's join date and the date of a specific engagement record,\n",
    "# and returns True if that engagement record happened within one week\n",
    "# of the student joining.\n",
    "def within_one_week(join_date, engagement_date):\n",
    "    time_delta = engagement_date - join_date\n",
    "    return time_delta.days < 7 and time_delta.days >= 0 \n",
    "\n",
    "def remove_free_trial_cancels(data):\n",
    "    new_data = []\n",
    "    for data_point in data:\n",
    "        if data_point['account_key'] in paid_students:\n",
    "            new_data.append(data_point)\n",
    "    return new_data"
   ]
  },
  {
   "cell_type": "code",
   "execution_count": 15,
   "metadata": {},
   "outputs": [
    {
     "name": "stdout",
     "output_type": "stream",
     "text": [
      "6919\n"
     ]
    }
   ],
   "source": [
    "#####################################\n",
    "#                 7                 #\n",
    "#####################################\n",
    "\n",
    "## Create a list of rows from the engagement table including only rows where\n",
    "## the student is one of the paid students you just found, and the date is within\n",
    "## one week of the student's join date.\n",
    "\n",
    "## Removing free trial persons\n",
    "paid_enrollments = remove_free_trial_cancels(non_udacity_enrollments)\n",
    "paid_engagement = remove_free_trial_cancels(non_udacity_engagement)\n",
    "paid_submissions = remove_free_trial_cancels(non_udacity_submissions)\n",
    "\n",
    "paid_engagement_in_first_week = []\n",
    "for engagement_record in paid_engagement:\n",
    "    account_key = engagement_record['account_key']\n",
    "    join_date = paid_students[account_key]\n",
    "    engagement_record_date = engagement_record['utc_date']\n",
    "    \n",
    "    if engagement_record['num_courses_visited'] > 0:\n",
    "        engagement_record['has_visited'] = 1\n",
    "    else:\n",
    "        engagement_record['has_visited'] = 0\n",
    "        \n",
    "    ## Compare\n",
    "    if within_one_week(join_date, engagement_record_date):\n",
    "        paid_engagement_in_first_week.append(engagement_record)\n",
    "\n",
    "print len(paid_engagement_in_first_week)"
   ]
  },
  {
   "cell_type": "markdown",
   "metadata": {},
   "source": [
    "## Exploring Student Engagement"
   ]
  },
  {
   "cell_type": "code",
   "execution_count": 16,
   "metadata": {},
   "outputs": [],
   "source": [
    "from collections import defaultdict\n",
    "\n",
    "# Create a dictionary of engagement grouped by student.\n",
    "# The keys are account keys, and the values are lists of engagement records.\n",
    "engagement_by_account = defaultdict(list)\n",
    "for engagement_record in paid_engagement_in_first_week:\n",
    "    account_key = engagement_record['account_key']\n",
    "    engagement_by_account[account_key].append(engagement_record)"
   ]
  },
  {
   "cell_type": "code",
   "execution_count": 17,
   "metadata": {},
   "outputs": [],
   "source": [
    "## Just for number group\n",
    "def group_data(items, key_name):\n",
    "    group = {}\n",
    "    for account_key, engagement_for_student in items:\n",
    "        total = 0\n",
    "        for engagement_record in engagement_for_student:\n",
    "            total += engagement_record[key_name]\n",
    "        group[account_key] = total\n",
    "    return group"
   ]
  },
  {
   "cell_type": "code",
   "execution_count": 18,
   "metadata": {},
   "outputs": [],
   "source": [
    "## Function to print NumPy functions result by a dictionary\n",
    "import numpy as np\n",
    "\n",
    "def print_analyze(dictionary):\n",
    "    values = dictionary.values()\n",
    "    print 'Mean:', np.mean(values)\n",
    "    print 'Standard deviation:', np.std(values)\n",
    "    print 'Minimum:', np.min(values)\n",
    "    print 'Maximum:', np.max(values)\n",
    "        "
   ]
  },
  {
   "cell_type": "code",
   "execution_count": 19,
   "metadata": {},
   "outputs": [],
   "source": [
    "# Create a dictionary with the total minutes each student spent in the classroom during the first week.\n",
    "# The keys are account keys, and the values are numbers (total minutes)\n",
    "total_minutes_by_account = group_data(engagement_by_account.items(), 'total_minutes_visited')"
   ]
  },
  {
   "cell_type": "code",
   "execution_count": 20,
   "metadata": {},
   "outputs": [
    {
     "name": "stdout",
     "output_type": "stream",
     "text": [
      "Mean: 306.70832675342825\n",
      "Standard deviation: 412.99693340852957\n",
      "Minimum: 0.0\n",
      "Maximum: 3564.7332644989997\n"
     ]
    }
   ],
   "source": [
    "# Summarize the data about minutes spent in the classroom\n",
    "print_analyze(total_minutes_by_account)"
   ]
  },
  {
   "cell_type": "code",
   "execution_count": 21,
   "metadata": {},
   "outputs": [
    {
     "name": "stdout",
     "output_type": "stream",
     "text": [
      "{u'lessons_completed': 4, u'num_courses_visited': 4, 'has_visited': 1, u'total_minutes_visited': 850.519339666, u'projects_completed': 0, 'account_key': u'163', u'utc_date': datetime.datetime(2015, 7, 9, 0, 0)}\n",
      "{u'lessons_completed': 6, u'num_courses_visited': 6, 'has_visited': 1, u'total_minutes_visited': 872.633923334, u'projects_completed': 0, 'account_key': u'163', u'utc_date': datetime.datetime(2015, 7, 10, 0, 0)}\n",
      "{u'lessons_completed': 6, u'num_courses_visited': 2, 'has_visited': 1, u'total_minutes_visited': 777.018903666, u'projects_completed': 0, 'account_key': u'163', u'utc_date': datetime.datetime(2015, 7, 11, 0, 0)}\n",
      "{u'lessons_completed': 2, u'num_courses_visited': 1, 'has_visited': 1, u'total_minutes_visited': 294.568774, u'projects_completed': 0, 'account_key': u'163', u'utc_date': datetime.datetime(2015, 7, 12, 0, 0)}\n",
      "{u'lessons_completed': 1, u'num_courses_visited': 3, 'has_visited': 1, u'total_minutes_visited': 471.2139785, u'projects_completed': 0, 'account_key': u'163', u'utc_date': datetime.datetime(2015, 7, 13, 0, 0)}\n",
      "{u'lessons_completed': 1, u'num_courses_visited': 2, 'has_visited': 1, u'total_minutes_visited': 298.778345333, u'projects_completed': 0, 'account_key': u'163', u'utc_date': datetime.datetime(2015, 7, 14, 0, 0)}\n",
      "{u'lessons_completed': 0, u'num_courses_visited': 0, 'has_visited': 0, u'total_minutes_visited': 0.0, u'projects_completed': 0, 'account_key': u'163', u'utc_date': datetime.datetime(2015, 7, 15, 0, 0)}\n"
     ]
    }
   ],
   "source": [
    "## Debugging Data Analysis Code\n",
    "student_with_max_minutes = None\n",
    "max_minutes = 0\n",
    "\n",
    "for student, total_minutes in total_minutes_by_account.items():\n",
    "    if total_minutes > max_minutes:\n",
    "        max_minutes = total_minutes\n",
    "        student_with_max_minutes = student\n",
    "\n",
    "max_minutes\n",
    "\n",
    "## Should print just 7 records, but printed more. We have a error in within_one_week() fixed now\n",
    "for engagement_record in paid_engagement_in_first_week:\n",
    "    if engagement_record['account_key'] == student_with_max_minutes:\n",
    "        print engagement_record"
   ]
  },
  {
   "cell_type": "markdown",
   "metadata": {},
   "source": [
    "## Lessons Completed in First Week"
   ]
  },
  {
   "cell_type": "code",
   "execution_count": 22,
   "metadata": {},
   "outputs": [
    {
     "name": "stdout",
     "output_type": "stream",
     "text": [
      "Mean: 1.636180904522613\n",
      "Standard deviation: 3.0025612998294227\n",
      "Minimum: 0\n",
      "Maximum: 36\n"
     ]
    }
   ],
   "source": [
    "#####################################\n",
    "#                 9                 #\n",
    "#####################################\n",
    "\n",
    "## Adapt the code above to find the mean, standard deviation, minimum, and maximum for\n",
    "## the number of lessons completed by each student during the first week. Try creating\n",
    "## one or more functions to re-use the code above.\n",
    "\n",
    "\n",
    "lessons_by_account = group_data(engagement_by_account.items(),'lessons_completed')\n",
    "print_analyze(lessons_by_account)"
   ]
  },
  {
   "cell_type": "markdown",
   "metadata": {},
   "source": [
    "## Number of Visits in First Week"
   ]
  },
  {
   "cell_type": "code",
   "execution_count": 23,
   "metadata": {},
   "outputs": [
    {
     "name": "stdout",
     "output_type": "stream",
     "text": [
      "Mean: 2.8673366834170855\n",
      "Standard deviation: 2.2551980029196814\n",
      "Minimum: 0\n",
      "Maximum: 7\n"
     ]
    }
   ],
   "source": [
    "######################################\n",
    "#                 10                 #\n",
    "######################################\n",
    "\n",
    "## Find the mean, standard deviation, minimum, and maximum for the number of\n",
    "## days each student visits the classroom during the first week.\n",
    "\n",
    "visits_by_account = group_data(engagement_by_account.items(), 'has_visited')\n",
    "\n",
    "print_analyze(visits_by_account)"
   ]
  },
  {
   "cell_type": "markdown",
   "metadata": {},
   "source": [
    "## Splitting out Passing Students"
   ]
  },
  {
   "cell_type": "code",
   "execution_count": 24,
   "metadata": {},
   "outputs": [
    {
     "name": "stdout",
     "output_type": "stream",
     "text": [
      "4527\n",
      "2392\n"
     ]
    }
   ],
   "source": [
    "######################################\n",
    "#                 11                 #\n",
    "######################################\n",
    "\n",
    "## Create two lists of engagement data for paid students in the first week.\n",
    "## The first list should contain data for students who eventually pass the\n",
    "## subway project, and the second list should contain data for students\n",
    "## who do not.\n",
    "\n",
    "subway_project_lesson_keys = ['746169184', '3176718735']\n",
    "\n",
    "pass_subway_project = set()\n",
    "\n",
    "for submission in paid_submissions:\n",
    "    if ((submission['lesson_key'] in subway_project_lesson_keys) \n",
    "        and (submission['assigned_rating']   == 'PASSED' \n",
    "             or submission['assigned_rating'] == 'DISTINCTION')):\n",
    "        pass_subway_project.add(submission['account_key'])\n",
    "\n",
    "len(pass_subway_project)\n",
    "\n",
    "passing_engagement = []\n",
    "non_passing_engagement = []\n",
    "\n",
    "for engagement_record in paid_engagement_in_first_week:\n",
    "    if engagement_record['account_key'] in pass_subway_project:\n",
    "        passing_engagement.append(engagement_record)\n",
    "    else:\n",
    "        non_passing_engagement.append(engagement_record)\n",
    "\n",
    "print len(passing_engagement)\n",
    "print len(non_passing_engagement)\n"
   ]
  },
  {
   "cell_type": "code",
   "execution_count": 25,
   "metadata": {},
   "outputs": [
    {
     "name": "stdout",
     "output_type": "stream",
     "text": [
      "{u'lesson_key': u'3176718735', u'processing_state': u'EVALUATED', u'account_key': u'256', u'assigned_rating': u'UNGRADED', u'completion_date': datetime.datetime(2015, 1, 16, 0, 0), u'creation_date': datetime.datetime(2015, 1, 14, 0, 0)}\n"
     ]
    }
   ],
   "source": [
    "print paid_submissions[0]"
   ]
  },
  {
   "cell_type": "markdown",
   "metadata": {},
   "source": [
    "## Making Histograms"
   ]
  },
  {
   "cell_type": "code",
   "execution_count": 26,
   "metadata": {},
   "outputs": [
    {
     "data": {
      "text/plain": [
       "([array([2., 0.]),\n",
       "  array([2., 0.]),\n",
       "  array([2., 0.]),\n",
       "  array([2., 0.]),\n",
       "  array([2., 0.]),\n",
       "  array([2., 0.]),\n",
       "  array([2., 0.]),\n",
       "  array([2., 0.]),\n",
       "  array([2., 0.]),\n",
       "  array([2., 0.]),\n",
       "  array([1., 1.]),\n",
       "  array([0., 2.]),\n",
       "  array([0., 2.]),\n",
       "  array([0., 2.]),\n",
       "  array([0., 2.]),\n",
       "  array([0., 2.]),\n",
       "  array([0., 2.]),\n",
       "  array([0., 2.]),\n",
       "  array([0., 2.]),\n",
       "  array([0., 2.]),\n",
       "  array([0., 2.])],\n",
       " array([ 0. , 20.5, 41. ]),\n",
       " <a list of 21 Lists of Patches objects>)"
      ]
     },
     "execution_count": 26,
     "metadata": {},
     "output_type": "execute_result"
    },
    {
     "data": {
      "image/png": "[encoded data removed]",
      "text/plain": [
       "<Figure size 432x288 with 1 Axes>"
      ]
     },
     "metadata": {
      "needs_background": "light"
     },
     "output_type": "display_data"
    }
   ],
   "source": [
    "######################################\n",
    "#                 13                 #\n",
    "######################################\n",
    "\n",
    "## Make histograms of the three metrics we looked at earlier for both\n",
    "## students who passed the subway project and students who didn't. You\n",
    "## might also want to make histograms of any other metrics you examined.\n",
    "\n",
    "data = [1, 2, 1, 3, 3, 1, 4, 2]\n",
    "\n",
    "%matplotlib inline\n",
    "\n",
    "import matplotlib.pyplot as plt\n",
    "\n",
    "teste = {}\n",
    "\n",
    "for lessons, account_key in lessons_by_account.items():\n",
    "    teste[account_key] = lessons\n",
    "plt.hist(teste.items(), bins=2)\n",
    "\n"
   ]
  },
  {
   "cell_type": "markdown",
   "metadata": {},
   "source": [
    "## Improving Plots and Sharing Findings"
   ]
  },
  {
   "cell_type": "code",
   "execution_count": 27,
   "metadata": {},
   "outputs": [],
   "source": [
    "######################################\n",
    "#                 14                 #\n",
    "######################################\n",
    "\n",
    "## Make a more polished version of at least one of your visualizations\n",
    "## from earlier. Try importing the seaborn library to make the visualization\n",
    "## look better, adding axis labels and a title, and changing one or more\n",
    "## arguments to the hist() function.\n",
    "\n",
    "passing = {}\n",
    "for engagement in passing_engagement:\n",
    "    account_key = engagement['account_key']\n",
    "    if account_key not in passing :\n",
    "        if engagement['num_courses_visited'] > 0:\n",
    "            passing[account_key] = 1\n",
    "        else:\n",
    "            passing[account_key] = 0\n",
    "    else:\n",
    "        if engagement['num_courses_visited'] > 0:\n",
    "            passing[account_key] += 1\n",
    "\n",
    "non_passing = {}\n",
    "for engagement in non_passing_engagement:\n",
    "    account_key = engagement['account_key']\n",
    "    if account_key not in passing :\n",
    "        if engagement['num_courses_visited'] > 0:\n",
    "            non_passing[account_key] = 1\n",
    "        else:\n",
    "            non_passing[account_key] = 0\n",
    "    else:\n",
    "        if engagement['num_courses_visited'] > 0:\n",
    "            non_passing[account_key] += 1"
   ]
  },
  {
   "cell_type": "code",
   "execution_count": 28,
   "metadata": {},
   "outputs": [
    {
     "data": {
      "text/plain": [
       "Text(0.5,1,'Distribution of classroom visits in the first week for students who pass the subway project')"
      ]
     },
     "execution_count": 28,
     "metadata": {},
     "output_type": "execute_result"
    },
    {
     "data": {
      "image/png": "[encoded data removed]",
      "text/plain": [
       "<Figure size 432x288 with 1 Axes>"
      ]
     },
     "metadata": {
      "needs_background": "light"
     },
     "output_type": "display_data"
    }
   ],
   "source": [
    "## Graphic\n",
    "import seaborn as sns\n",
    "%matplotlib inline\n",
    "\n",
    "plt.hist(passing.items(), bins=8)\n",
    "plt.xlabel('Number of days')\n",
    "plt.title('Distribution of classroom visits in the first week ' + \n",
    "          'for students who pass the subway project')\n",
    "\n",
    "\n"
   ]
  },
  {
   "cell_type": "code",
   "execution_count": 29,
   "metadata": {},
   "outputs": [
    {
     "data": {
      "text/plain": [
       "Text(0.5,1,'Distribution of classroom visits in the first week for students who do not pass the subway project')"
      ]
     },
     "execution_count": 29,
     "metadata": {},
     "output_type": "execute_result"
    },
    {
     "data": {
      "image/png": "[encoded data removed]",
      "text/plain": [
       "<Figure size 432x288 with 1 Axes>"
      ]
     },
     "metadata": {
      "needs_background": "light"
     },
     "output_type": "display_data"
    }
   ],
   "source": [
    "%matplotlib inline\n",
    "\n",
    "plt.hist(non_passing.items(), bins=8)\n",
    "plt.xlabel('Number of days')\n",
    "plt.title('Distribution of classroom visits in the first week ' + \n",
    "          'for students who do not pass the subway project')"
   ]
  }
 ],
 "metadata": {
  "kernelspec": {
   "display_name": "Python 2",
   "language": "python",
   "name": "python2"
  },
  "language_info": {
   "codemirror_mode": {
    "name": "ipython",
    "version": 2
   },
   "file_extension": ".py",
   "mimetype": "text/x-python",
   "name": "python",
   "nbconvert_exporter": "python",
   "pygments_lexer": "ipython2",
   "version": "2.7.15"
  }
 },
 "nbformat": 4,
 "nbformat_minor": 1
}
